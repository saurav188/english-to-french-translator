{
 "cells": [
  {
   "cell_type": "markdown",
   "id": "e08a369b",
   "metadata": {
    "id": "yzIlmwXTwrlb"
   },
   "source": [
    "#**English to French Translator**"
   ]
  },
  {
   "cell_type": "code",
   "execution_count": null,
   "id": "d4da12c9",
   "metadata": {
    "colab": {
     "base_uri": "https://localhost:8080/"
    },
    "id": "yf0OBq1kki3N",
    "outputId": "931b9d83-7418-42a4-c3fa-9a9267a615e0"
   },
   "outputs": [
    {
     "name": "stdout",
     "output_type": "stream",
     "text": [
      "Looking in indexes: https://pypi.org/simple, https://us-python.pkg.dev/colab-wheels/public/simple/\n",
      "Requirement already satisfied: keras_preprocessing in /usr/local/lib/python3.9/dist-packages (1.1.2)\n",
      "Requirement already satisfied: six>=1.9.0 in /usr/local/lib/python3.9/dist-packages (from keras_preprocessing) (1.16.0)\n",
      "Requirement already satisfied: numpy>=1.9.1 in /usr/local/lib/python3.9/dist-packages (from keras_preprocessing) (1.22.4)\n",
      "Looking in indexes: https://pypi.org/simple, https://us-python.pkg.dev/colab-wheels/public/simple/\n",
      "Requirement already satisfied: nltk in /usr/local/lib/python3.9/dist-packages (3.8.1)\n",
      "Requirement already satisfied: tqdm in /usr/local/lib/python3.9/dist-packages (from nltk) (4.65.0)\n",
      "Requirement already satisfied: regex>=2021.8.3 in /usr/local/lib/python3.9/dist-packages (from nltk) (2022.10.31)\n",
      "Requirement already satisfied: joblib in /usr/local/lib/python3.9/dist-packages (from nltk) (1.1.1)\n",
      "Requirement already satisfied: click in /usr/local/lib/python3.9/dist-packages (from nltk) (8.1.3)\n"
     ]
    }
   ],
   "source": [
    "!pip install keras_preprocessing\n",
    "!pip install nltk"
   ]
  },
  {
   "cell_type": "code",
   "execution_count": null,
   "id": "9f95fd81",
   "metadata": {
    "id": "fGsjh9yXsA8p"
   },
   "outputs": [],
   "source": [
    "import pandas as pd\n",
    "import numpy as np\n",
    "import tensorflow as tf\n",
    "from tensorflow import keras\n",
    "from tensorflow.keras import layers\n",
    "from keras.optimizers import Adam\n",
    "from keras.losses import sparse_categorical_crossentropy\n",
    "from keras.preprocessing.text import Tokenizer\n",
    "from keras_preprocessing.sequence import pad_sequences\n",
    "import collections\n",
    "from nltk.translate.bleu_score import corpus_bleu\n",
    "\n",
    "df=pd.read_csv(\"eng_-french.csv\")"
   ]
  },
  {
   "cell_type": "markdown",
   "id": "00a2c9fa",
   "metadata": {
    "id": "zwxf5LDxw11P"
   },
   "source": [
    "#Data Preprocessing"
   ]
  },
  {
   "cell_type": "code",
   "execution_count": null,
   "id": "db372be1",
   "metadata": {
    "colab": {
     "base_uri": "https://localhost:8080/"
    },
    "id": "Q2TzMpGxVXTR",
    "outputId": "d2fbf24c-035a-4306-9487-5e0876614190"
   },
   "outputs": [
    {
     "data": {
      "text/plain": [
       "(175621, 2)"
      ]
     },
     "execution_count": 4,
     "metadata": {},
     "output_type": "execute_result"
    }
   ],
   "source": [
    "df.shape"
   ]
  },
  {
   "cell_type": "code",
   "execution_count": null,
   "id": "304d0a46",
   "metadata": {
    "colab": {
     "base_uri": "https://localhost:8080/",
     "height": 206
    },
    "id": "ZngyK852hnjb",
    "outputId": "8d3a6dd0-cb78-41bf-f231-06d3e9e376ff"
   },
   "outputs": [
    {
     "data": {
      "text/html": [
       "\n",
       "  <div id=\"df-371ee19a-f2ba-4c20-92b5-aadb432c75d6\">\n",
       "    <div class=\"colab-df-container\">\n",
       "      <div>\n",
       "<style scoped>\n",
       "    .dataframe tbody tr th:only-of-type {\n",
       "        vertical-align: middle;\n",
       "    }\n",
       "\n",
       "    .dataframe tbody tr th {\n",
       "        vertical-align: top;\n",
       "    }\n",
       "\n",
       "    .dataframe thead th {\n",
       "        text-align: right;\n",
       "    }\n",
       "</style>\n",
       "<table border=\"1\" class=\"dataframe\">\n",
       "  <thead>\n",
       "    <tr style=\"text-align: right;\">\n",
       "      <th></th>\n",
       "      <th>English words/sentences</th>\n",
       "      <th>French words/sentences</th>\n",
       "    </tr>\n",
       "  </thead>\n",
       "  <tbody>\n",
       "    <tr>\n",
       "      <th>0</th>\n",
       "      <td>Hi.</td>\n",
       "      <td>Salut!</td>\n",
       "    </tr>\n",
       "    <tr>\n",
       "      <th>1</th>\n",
       "      <td>Run!</td>\n",
       "      <td>Cours !</td>\n",
       "    </tr>\n",
       "    <tr>\n",
       "      <th>2</th>\n",
       "      <td>Run!</td>\n",
       "      <td>Courez !</td>\n",
       "    </tr>\n",
       "    <tr>\n",
       "      <th>3</th>\n",
       "      <td>Who?</td>\n",
       "      <td>Qui ?</td>\n",
       "    </tr>\n",
       "    <tr>\n",
       "      <th>4</th>\n",
       "      <td>Wow!</td>\n",
       "      <td>Ça alors !</td>\n",
       "    </tr>\n",
       "  </tbody>\n",
       "</table>\n",
       "</div>\n",
       "      <button class=\"colab-df-convert\" onclick=\"convertToInteractive('df-371ee19a-f2ba-4c20-92b5-aadb432c75d6')\"\n",
       "              title=\"Convert this dataframe to an interactive table.\"\n",
       "              style=\"display:none;\">\n",
       "        \n",
       "  <svg xmlns=\"http://www.w3.org/2000/svg\" height=\"24px\"viewBox=\"0 0 24 24\"\n",
       "       width=\"24px\">\n",
       "    <path d=\"M0 0h24v24H0V0z\" fill=\"none\"/>\n",
       "    <path d=\"M18.56 5.44l.94 2.06.94-2.06 2.06-.94-2.06-.94-.94-2.06-.94 2.06-2.06.94zm-11 1L8.5 8.5l.94-2.06 2.06-.94-2.06-.94L8.5 2.5l-.94 2.06-2.06.94zm10 10l.94 2.06.94-2.06 2.06-.94-2.06-.94-.94-2.06-.94 2.06-2.06.94z\"/><path d=\"M17.41 7.96l-1.37-1.37c-.4-.4-.92-.59-1.43-.59-.52 0-1.04.2-1.43.59L10.3 9.45l-7.72 7.72c-.78.78-.78 2.05 0 2.83L4 21.41c.39.39.9.59 1.41.59.51 0 1.02-.2 1.41-.59l7.78-7.78 2.81-2.81c.8-.78.8-2.07 0-2.86zM5.41 20L4 18.59l7.72-7.72 1.47 1.35L5.41 20z\"/>\n",
       "  </svg>\n",
       "      </button>\n",
       "      \n",
       "  <style>\n",
       "    .colab-df-container {\n",
       "      display:flex;\n",
       "      flex-wrap:wrap;\n",
       "      gap: 12px;\n",
       "    }\n",
       "\n",
       "    .colab-df-convert {\n",
       "      background-color: #E8F0FE;\n",
       "      border: none;\n",
       "      border-radius: 50%;\n",
       "      cursor: pointer;\n",
       "      display: none;\n",
       "      fill: #1967D2;\n",
       "      height: 32px;\n",
       "      padding: 0 0 0 0;\n",
       "      width: 32px;\n",
       "    }\n",
       "\n",
       "    .colab-df-convert:hover {\n",
       "      background-color: #E2EBFA;\n",
       "      box-shadow: 0px 1px 2px rgba(60, 64, 67, 0.3), 0px 1px 3px 1px rgba(60, 64, 67, 0.15);\n",
       "      fill: #174EA6;\n",
       "    }\n",
       "\n",
       "    [theme=dark] .colab-df-convert {\n",
       "      background-color: #3B4455;\n",
       "      fill: #D2E3FC;\n",
       "    }\n",
       "\n",
       "    [theme=dark] .colab-df-convert:hover {\n",
       "      background-color: #434B5C;\n",
       "      box-shadow: 0px 1px 3px 1px rgba(0, 0, 0, 0.15);\n",
       "      filter: drop-shadow(0px 1px 2px rgba(0, 0, 0, 0.3));\n",
       "      fill: #FFFFFF;\n",
       "    }\n",
       "  </style>\n",
       "\n",
       "      <script>\n",
       "        const buttonEl =\n",
       "          document.querySelector('#df-371ee19a-f2ba-4c20-92b5-aadb432c75d6 button.colab-df-convert');\n",
       "        buttonEl.style.display =\n",
       "          google.colab.kernel.accessAllowed ? 'block' : 'none';\n",
       "\n",
       "        async function convertToInteractive(key) {\n",
       "          const element = document.querySelector('#df-371ee19a-f2ba-4c20-92b5-aadb432c75d6');\n",
       "          const dataTable =\n",
       "            await google.colab.kernel.invokeFunction('convertToInteractive',\n",
       "                                                     [key], {});\n",
       "          if (!dataTable) return;\n",
       "\n",
       "          const docLinkHtml = 'Like what you see? Visit the ' +\n",
       "            '<a target=\"_blank\" href=https://colab.research.google.com/notebooks/data_table.ipynb>data table notebook</a>'\n",
       "            + ' to learn more about interactive tables.';\n",
       "          element.innerHTML = '';\n",
       "          dataTable['output_type'] = 'display_data';\n",
       "          await google.colab.output.renderOutput(dataTable, element);\n",
       "          const docLink = document.createElement('div');\n",
       "          docLink.innerHTML = docLinkHtml;\n",
       "          element.appendChild(docLink);\n",
       "        }\n",
       "      </script>\n",
       "    </div>\n",
       "  </div>\n",
       "  "
      ],
      "text/plain": [
       "  English words/sentences French words/sentences\n",
       "0                     Hi.                 Salut!\n",
       "1                    Run!                Cours !\n",
       "2                    Run!               Courez !\n",
       "3                    Who?                  Qui ?\n",
       "4                    Wow!             Ça alors !"
      ]
     },
     "execution_count": 5,
     "metadata": {},
     "output_type": "execute_result"
    }
   ],
   "source": [
    "df.head()"
   ]
  },
  {
   "cell_type": "code",
   "execution_count": null,
   "id": "19906d92",
   "metadata": {
    "colab": {
     "base_uri": "https://localhost:8080/"
    },
    "id": "OA0xL44AUyN-",
    "outputId": "ab0c9502-73dd-4989-ac29-2d35f0d816eb"
   },
   "outputs": [
    {
     "data": {
      "text/plain": [
       "English words/sentences    0\n",
       "French words/sentences     0\n",
       "dtype: int64"
      ]
     },
     "execution_count": 6,
     "metadata": {},
     "output_type": "execute_result"
    }
   ],
   "source": [
    "df.isna().sum()"
   ]
  },
  {
   "cell_type": "code",
   "execution_count": null,
   "id": "21adbcd8",
   "metadata": {
    "id": "fdm_qklQ2n9Q"
   },
   "outputs": [],
   "source": [
    "special_characters = '\"!@#$%^&*()-+?_|=,<>/\"'"
   ]
  },
  {
   "cell_type": "code",
   "execution_count": null,
   "id": "cf362c58",
   "metadata": {
    "id": "yW01KmCuH8qp"
   },
   "outputs": [],
   "source": [
    "def tokenize(x):\n",
    "    tokenizer = Tokenizer(\n",
    "        filters=special_characters,\n",
    "        lower=True,\n",
    "        split=\" \"\n",
    "    )\n",
    "    tokenizer.fit_on_texts(x)\n",
    "    return tokenizer.texts_to_sequences(x), tokenizer"
   ]
  },
  {
   "cell_type": "code",
   "execution_count": null,
   "id": "68fedb1b",
   "metadata": {
    "id": "MiuIqmlmRXmx"
   },
   "outputs": [],
   "source": [
    "def pad(x, length=None):\n",
    "    return pad_sequences(x, maxlen = 55, padding = 'post')"
   ]
  },
  {
   "cell_type": "code",
   "execution_count": null,
   "id": "a0070787",
   "metadata": {
    "id": "3_dvZVpOSEQC"
   },
   "outputs": [],
   "source": [
    "def preproc(x,length=None):\n",
    "  seq,tok=tokenize(x.apply(lambda x:str(x)))\n",
    "  padded_value=pad(seq,length)\n",
    "  #reshaped_value=padded_value.reshape(*padded_value.shape,1)\n",
    "  return padded_value,tok"
   ]
  },
  {
   "cell_type": "code",
   "execution_count": null,
   "id": "1e83bf3e",
   "metadata": {
    "id": "BSynppJqIeke"
   },
   "outputs": [],
   "source": [
    "preproc_english,english_tokenizer=preproc(df[\"English words/sentences\"])\n",
    "preproc_french,french_tokenizer=preproc(df[\"French words/sentences\"])"
   ]
  },
  {
   "cell_type": "code",
   "execution_count": null,
   "id": "4cf8710d",
   "metadata": {
    "id": "GSJt5Mq3mkVU"
   },
   "outputs": [],
   "source": [
    "eng_vocab_size=len(english_tokenizer.word_index)\n",
    "frn_vocab_size=len(french_tokenizer.word_index)"
   ]
  },
  {
   "cell_type": "markdown",
   "id": "95d41e38",
   "metadata": {
    "id": "FQV5NM7OMBMA"
   },
   "source": [
    "##One-Hot representation of sentences"
   ]
  },
  {
   "cell_type": "code",
   "execution_count": null,
   "id": "5c53a422",
   "metadata": {
    "colab": {
     "base_uri": "https://localhost:8080/"
    },
    "id": "KvkOse8b7Uyc",
    "outputId": "385494ad-df62-4b83-c676-c7062c29a2dc"
   },
   "outputs": [
    {
     "name": "stdout",
     "output_type": "stream",
     "text": [
      "Come in. \n",
      "is represented as \n",
      " [ 91 449   0   0   0   0   0   0   0   0   0   0   0   0   0   0   0   0\n",
      "   0   0   0   0   0   0   0   0   0   0   0   0   0   0   0   0   0   0\n",
      "   0   0   0   0   0   0   0   0   0   0   0   0   0   0   0   0   0   0\n",
      "   0]\n",
      "Entre. \n",
      "is represented as \n",
      " [8126    0    0    0    0    0    0    0    0    0    0    0    0    0\n",
      "    0    0    0    0    0    0    0    0    0    0    0    0    0    0\n",
      "    0    0    0    0    0    0    0    0    0    0    0    0    0    0\n",
      "    0    0    0    0    0    0    0    0    0    0    0    0    0]\n"
     ]
    }
   ],
   "source": [
    "i=98\n",
    "print(df.iloc[i,0],\"\\nis represented as \\n\",preproc_english[i])\n",
    "print(df.iloc[i,1],\"\\nis represented as \\n\",preproc_french[i])"
   ]
  },
  {
   "cell_type": "markdown",
   "id": "6540c499",
   "metadata": {
    "id": "OgPmolSZw7h2"
   },
   "source": [
    "##Analysing Data\n"
   ]
  },
  {
   "cell_type": "code",
   "execution_count": null,
   "id": "9fc476a8",
   "metadata": {
    "colab": {
     "base_uri": "https://localhost:8080/"
    },
    "id": "-8et1BByvpCH",
    "outputId": "6d6b63ce-1b18-4c3e-badb-3c3515b7fc44"
   },
   "outputs": [
    {
     "name": "stdout",
     "output_type": "stream",
     "text": [
      "1082098 English words.\n",
      "27393 unique English words.\n",
      "\n",
      "10 Most common words in the English dataset:\n",
      "\"I\" \"to\" \"you\" \"the\" \"a\" \"is\" \"Tom\" \"of\" \"in\" \"have\"\n",
      "\n",
      "-------------------------------------------------------------------\n",
      "\n",
      "1177832 French words.\n",
      "44918 unique French words.\n",
      "\n",
      "10 Most common words in the French dataset:\n",
      "\"de\" \"Je\" \"?\" \"pas\" \"que\" \"à\" \"ne\" \"la\" \"le\" \"Il\"\n"
     ]
    }
   ],
   "source": [
    "english_words_counter = collections.Counter([word for sentence in df[\"English words/sentences\"] for word in sentence.split()])\n",
    "french_words_counter = collections.Counter([word for sentence in df[\"French words/sentences\"] for word in sentence.split()])\n",
    "\n",
    "print('{} English words.'.format(len([word for sentence in df[\"English words/sentences\"] for word in sentence.split()])))\n",
    "print('{} unique English words.'.format(len(english_words_counter)))\n",
    "print('\\n10 Most common words in the English dataset:')\n",
    "print('\"' + '\" \"'.join(list(zip(*english_words_counter.most_common(10)))[0]) + '\"')\n",
    "print(\"\\n-------------------------------------------------------------------\\n\")\n",
    "print('{} French words.'.format(len([word for sentence in df[\"French words/sentences\"] for word in sentence.split()])))\n",
    "print('{} unique French words.'.format(len(french_words_counter)))\n",
    "print('\\n10 Most common words in the French dataset:')\n",
    "print('\"' + '\" \"'.join(list(zip(*french_words_counter.most_common(10)))[0]) + '\"')"
   ]
  },
  {
   "cell_type": "markdown",
   "id": "c8505e88",
   "metadata": {
    "id": "E9KHYa0Fro1H"
   },
   "source": [
    "#Building the model\n"
   ]
  },
  {
   "cell_type": "code",
   "execution_count": null,
   "id": "ad6f4c81",
   "metadata": {
    "id": "8ls2SWCN6z_5"
   },
   "outputs": [],
   "source": [
    "def bd_model(input_shape, output_sequence_length, english_vocab_size, french_vocab_size):\n",
    "    learning_rate = 0.003\n",
    "    \n",
    "    # Build the layers\n",
    "    model = keras.Sequential()\n",
    "    model.add(layers.Embedding(english_vocab_size, 256, input_length=input_shape[1], input_shape=input_shape[1:]))\n",
    "    model.add(layers.Bidirectional(layers.GRU(256, return_sequences=True)))\n",
    "    model.add(layers.TimeDistributed(layers.Dense(1024, activation='relu')))\n",
    "    model.add(layers.TimeDistributed(layers.Dense(french_vocab_size, activation='softmax'))) \n",
    "\n",
    "    # Compile model\n",
    "    model.compile(loss=sparse_categorical_crossentropy,\n",
    "                  optimizer=Adam(learning_rate),\n",
    "                  metrics=['accuracy'])\n",
    "    return model"
   ]
  },
  {
   "cell_type": "code",
   "execution_count": null,
   "id": "b0830a57",
   "metadata": {
    "colab": {
     "base_uri": "https://localhost:8080/"
    },
    "id": "FeSrTfTHI7Yq",
    "outputId": "19582e30-c0ef-4f71-e3d8-2f52d2d97480"
   },
   "outputs": [
    {
     "name": "stdout",
     "output_type": "stream",
     "text": [
      "Model: \"sequential\"\n",
      "_________________________________________________________________\n",
      " Layer (type)                Output Shape              Param #   \n",
      "=================================================================\n",
      " embedding (Embedding)       (None, 55, 256)           5261568   \n",
      "                                                                 \n",
      " bidirectional (Bidirectiona  (None, 55, 512)          789504    \n",
      " l)                                                              \n",
      "                                                                 \n",
      " time_distributed (TimeDistr  (None, 55, 1024)         525312    \n",
      " ibuted)                                                         \n",
      "                                                                 \n",
      " time_distributed_1 (TimeDis  (None, 55, 40159)        41162975  \n",
      " tributed)                                                       \n",
      "                                                                 \n",
      "=================================================================\n",
      "Total params: 47,739,359\n",
      "Trainable params: 47,739,359\n",
      "Non-trainable params: 0\n",
      "_________________________________________________________________\n"
     ]
    }
   ],
   "source": [
    "model=bd_model(preproc_english.shape,preproc_french.shape[1],eng_vocab_size,frn_vocab_size)\n",
    "model.load_weights(\"model_weights.h5\")\n",
    "model.summary()"
   ]
  },
  {
   "cell_type": "markdown",
   "id": "7a2bc4da",
   "metadata": {
    "id": "0b5os1s4xGzo"
   },
   "source": [
    "#Testing The Model"
   ]
  },
  {
   "cell_type": "code",
   "execution_count": null,
   "id": "3cf6dfaa",
   "metadata": {
    "id": "IJGMGzK18DSO"
   },
   "outputs": [],
   "source": [
    "def sequence_to_text(sequence, tokenizer):\n",
    "  index_to_words = {id: word for word, id in tokenizer.word_index.items()}\n",
    "  index_to_words[0] = ''\n",
    "\n",
    "  return ' '.join([index_to_words[prediction] for prediction in np.argmax(sequence, 1)])"
   ]
  },
  {
   "cell_type": "code",
   "execution_count": null,
   "id": "cbb6e5d1",
   "metadata": {
    "colab": {
     "base_uri": "https://localhost:8080/"
    },
    "id": "zTfCRg3owSgB",
    "outputId": "e9c41b67-081d-47dc-cf04-8f132d0ca206"
   },
   "outputs": [
    {
     "name": "stdout",
     "output_type": "stream",
     "text": [
      "8/8 [==============================] - 31s 4s/step\n",
      "BLEU Score :  0.29111064110632834\n"
     ]
    }
   ],
   "source": [
    "i=250\n",
    "\n",
    "indexes=np.arange(preproc_english.shape[0])\n",
    "indexes=np.random.choice(indexes,i)\n",
    "test_x=preproc_english[indexes]\n",
    "pred_y=model.predict(test_x,verbose=1)\n",
    "pred_y=[sequence_to_text(i,french_tokenizer).split() for i in pred_y]\n",
    "\n",
    "test_y=df[\"French words/sentences\"][indexes].tolist()\n",
    "references=[[i.lower().split()] for i in test_y]\n",
    "\n",
    "score = corpus_bleu(references,pred_y)\n",
    "print('BLEU Score : ', score)"
   ]
  },
  {
   "cell_type": "code",
   "execution_count": null,
   "id": "c594fc22",
   "metadata": {
    "id": "B2DZ6QYt6I_P"
   },
   "outputs": [],
   "source": [
    "def process_input(str):\n",
    "  words=str.split(\" \")\n",
    "  #removing !,.,?\n",
    "  words=[word[:-1] if word[-1] in [\".\",\"?\",\"!\"] else word for word in words]\n",
    "  words=[word for word in words if len(word)>0]\n",
    "  return \" \".join(words)"
   ]
  },
  {
   "cell_type": "code",
   "execution_count": null,
   "id": "886514de",
   "metadata": {
    "colab": {
     "base_uri": "https://localhost:8080/"
    },
    "id": "ComvaxRmJ3BX",
    "outputId": "42c979a4-8f19-4e70-81ac-e6d9a86a0c91"
   },
   "outputs": [
    {
     "name": "stdout",
     "output_type": "stream",
     "text": [
      "Original text :\n",
      "Wash the dishes.\n",
      "\n",
      "Original translated text is :\n",
      "Lave la vaisselle !\n",
      "\n",
      "translated text is :\n",
      "lave la vaisselle.                                                    \n"
     ]
    }
   ],
   "source": [
    "i=12724\n",
    "test_input=preproc_english[i:i+1]\n",
    "predicted_sequence=model.predict(test_input,verbose=0)[0]\n",
    "translated_text=sequence_to_text(predicted_sequence,french_tokenizer)\n",
    "\n",
    "print(\"Original text :\")\n",
    "print(df[\"English words/sentences\"][i])\n",
    "print(\"\\nOriginal translated text is :\")\n",
    "print(df[\"French words/sentences\"][i])\n",
    "print(\"\\ntranslated text is :\")\n",
    "print(translated_text)"
   ]
  },
  {
   "cell_type": "markdown",
   "id": "8924977c",
   "metadata": {
    "id": "i1x8kEcUxS3z"
   },
   "source": [
    "#Tranalating inputed English sentence"
   ]
  },
  {
   "cell_type": "code",
   "execution_count": null,
   "id": "fd4a385f",
   "metadata": {
    "colab": {
     "base_uri": "https://localhost:8080/"
    },
    "id": "7Tsl1Zg3iHS5",
    "outputId": "4bead68d-9b07-4bcd-e328-96650d21e163"
   },
   "outputs": [
    {
     "name": "stdout",
     "output_type": "stream",
     "text": [
      "Enter text to translater : so what now\n",
      "\n",
      "Translated text is :  alors à maintenant                                                     \n"
     ]
    }
   ],
   "source": [
    "inputed_text=input(\"Enter text to translater : \")\n",
    "inputed_text=process_input(inputed_text)\n",
    "\n",
    "word_index_english=english_tokenizer.word_index\n",
    "word_index_french=french_tokenizer.word_index\n",
    "\n",
    "try:\n",
    "  preproced_input=pad([[word_index_english[i.lower()] for i in inputed_text.split(\" \")]])\n",
    "  predicted_sequence=model.predict(preproced_input,verbose=0)[0]\n",
    "  translated_text=sequence_to_text(predicted_sequence,french_tokenizer)\n",
    "\n",
    "  print(\"\\nTranslated text is : \",translated_text)\n",
    "\n",
    "except:\n",
    "  print(\"Inputed sentence contains words that are unrecognisable by the model try other sentence.\")"
   ]
  },
  {
   "cell_type": "code",
   "execution_count": null,
   "id": "c7bb3630",
   "metadata": {},
   "outputs": [],
   "source": []
  }
 ],
 "metadata": {
  "kernelspec": {
   "display_name": "Python 3 (ipykernel)",
   "language": "python",
   "name": "python3"
  },
  "language_info": {
   "codemirror_mode": {
    "name": "ipython",
    "version": 3
   },
   "file_extension": ".py",
   "mimetype": "text/x-python",
   "name": "python",
   "nbconvert_exporter": "python",
   "pygments_lexer": "ipython3",
   "version": "3.10.8"
  }
 },
 "nbformat": 4,
 "nbformat_minor": 5
}
