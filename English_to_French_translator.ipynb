version https://git-lfs.github.com/spec/v1
oid sha256:8488bae8f1557e478d0873ea263dac49b0b3971d7bc9d601e8decbc2f940e6cd
size 23189
